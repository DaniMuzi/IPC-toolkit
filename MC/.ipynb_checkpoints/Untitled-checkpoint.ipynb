{
 "cells": [
  {
   "cell_type": "code",
   "execution_count": 1,
   "id": "faec53a2",
   "metadata": {},
   "outputs": [],
   "source": [
    "import matplotlib.pyplot as plt"
   ]
  },
  {
   "cell_type": "code",
   "execution_count": 2,
   "id": "b7609459",
   "metadata": {},
   "outputs": [
    {
     "name": "stdout",
     "output_type": "stream",
     "text": [
      "Generated 1000 FCC lattice sites:\n",
      "[[0.         0.         0.        ]\n",
      " [0.71428571 0.71428571 0.        ]\n",
      " [0.71428571 0.         0.71428571]\n",
      " ...\n",
      " [7.85714286 0.71428571 5.71428571]\n",
      " [7.85714286 0.         6.42857143]\n",
      " [7.14285714 0.71428571 6.42857143]]\n"
     ]
    }
   ],
   "source": [
    "import numpy as np\n",
    "\n",
    "def generate_fcc_lattice(N, L):\n",
    "    \"\"\"\n",
    "    Generate an FCC lattice with N lattice sites within a cubic box of size L.\n",
    "\n",
    "    Parameters:\n",
    "        N (int): Number of lattice sites.\n",
    "        L (float): Linear size of the lattice (box size).\n",
    "\n",
    "    Returns:\n",
    "        numpy.ndarray: Array of shape (N, 3) containing the positions of lattice sites.\n",
    "    \"\"\"\n",
    "    # FCC basis vectors (relative to unit cell size)\n",
    "    basis = np.array([\n",
    "        [0.0, 0.0, 0.0],\n",
    "        [0.5, 0.5, 0.0],\n",
    "        [0.5, 0.0, 0.5],\n",
    "        [0.0, 0.5, 0.5]\n",
    "    ])\n",
    "\n",
    "    # Compute the number of unit cells along each dimension\n",
    "    n_cells = int(np.ceil((N / 4) ** (1/3)))  # Each unit cell contains 4 atoms\n",
    "\n",
    "    # Compute lattice spacing\n",
    "    lattice_spacing = L / n_cells\n",
    "\n",
    "    # Generate lattice points\n",
    "    positions = []\n",
    "    for i in range(n_cells):\n",
    "        for j in range(n_cells):\n",
    "            for k in range(n_cells):\n",
    "                cell_origin = np.array([i, j, k]) * lattice_spacing\n",
    "                for b in basis:\n",
    "                    site = cell_origin + b * lattice_spacing\n",
    "                    positions.append(site)\n",
    "                    if len(positions) == N:  # Stop once we reach N sites\n",
    "                        return np.array(positions)\n",
    "\n",
    "    return np.array(positions)\n",
    "\n",
    "# Example usage\n",
    "N = 1000  # Number of lattice sites\n",
    "L = 10.0  # Linear size of the lattice\n",
    "positions = generate_fcc_lattice(N, L)\n",
    "\n",
    "# Save or print the generated positions\n",
    "print(f'Generated {len(positions)} FCC lattice sites:')\n",
    "print(positions)\n"
   ]
  },
  {
   "cell_type": "code",
   "execution_count": 3,
   "id": "e4472182",
   "metadata": {},
   "outputs": [
    {
     "data": {
      "text/plain": [
       "(1000,)"
      ]
     },
     "execution_count": 3,
     "metadata": {},
     "output_type": "execute_result"
    }
   ],
   "source": [
    "x = positions[:, 0]"
   ]
  },
  {
   "cell_type": "code",
   "execution_count": null,
   "id": "32ba2641",
   "metadata": {},
   "outputs": [],
   "source": []
  }
 ],
 "metadata": {
  "kernelspec": {
   "display_name": "Python 3 (ipykernel)",
   "language": "python",
   "name": "python3"
  },
  "language_info": {
   "codemirror_mode": {
    "name": "ipython",
    "version": 3
   },
   "file_extension": ".py",
   "mimetype": "text/x-python",
   "name": "python",
   "nbconvert_exporter": "python",
   "pygments_lexer": "ipython3",
   "version": "3.10.12"
  }
 },
 "nbformat": 4,
 "nbformat_minor": 5
}
